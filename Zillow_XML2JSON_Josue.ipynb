{
 "cells": [
  {
   "cell_type": "code",
   "execution_count": 14,
   "metadata": {},
   "outputs": [],
   "source": [
    "import pandas as pd \n",
    "import requests \n",
    "from xmljson import badgerfish as bf\n",
    "from xml.etree.ElementTree import fromstring\n",
    "import json\n",
    "from json import dumps\n",
    "from pandas.io.json import json_normalize\n",
    "\n",
    "from csv import reader\n",
    "\n",
    "%matplotlib inline"
   ]
  },
  {
   "cell_type": "code",
   "execution_count": 83,
   "metadata": {},
   "outputs": [],
   "source": [
    "state=\"TX\"\n",
    "city=\"houston\"\n",
    "childtype=\"neighborhood\""
   ]
  },
  {
   "cell_type": "code",
   "execution_count": 84,
   "metadata": {},
   "outputs": [],
   "source": [
    "\n",
    "url = f\"http://www.zillow.com/webservice/GetDeepSearchResults.htm?zws-id=XX-XXXXhchwlx97uz_1mzvh&address=3443+inwood+dr&citystatezip=Houston%2C+TX\""
   ]
  },
  {
   "cell_type": "code",
   "execution_count": 85,
   "metadata": {},
   "outputs": [
    {
     "data": {
      "text/plain": [
       "<Response [200]>"
      ]
     },
     "execution_count": 85,
     "metadata": {},
     "output_type": "execute_result"
    }
   ],
   "source": [
    "response= requests.get(url)\n",
    "response"
   ]
  },
  {
   "cell_type": "code",
   "execution_count": 105,
   "metadata": {},
   "outputs": [
    {
     "data": {
      "text/plain": [
       "'<?xml version=\"1.0\" encoding=\"utf-8\"?><SearchResults:searchresults xsi:schemaLocation=\"http://www.zillow.com/static/xsd/SearchResults.xsd http://www.zillowstatic.com/vstatic/80d5e73/static/xsd/SearchResults.xsd\" xmlns:xsi=\"http://www.w3.org/2001/XMLSchema-instance\" xmlns:SearchResults=\"http://www.zillow.com/static/xsd/SearchResults.xsd\"><request><address>3443 inwood dr</address><citystatezip>Houston, TX</citystatezip></request><message><text>Request successfully processed</text><code>0</code></message><response><results><result><zpid>27844718</zpid><links><homedetails>http://www.zillow.com/homedetails/3443-Inwood-Dr-Houston-TX-77019/27844718_zpid/</homedetails><graphsanddata>http://www.zillow.com/homedetails/3443-Inwood-Dr-Houston-TX-77019/27844718_zpid/#charts-and-data</graphsanddata><mapthishome>http://www.zillow.com/homes/27844718_zpid/</mapthishome><comparables>http://www.zillow.com/homes/comps/27844718_zpid/</comparables></links><address><street>3443 Inwood Dr</street><zipcode>77019</zipcode><city>Houston</city><state>TX</state><latitude>29.751466</latitude><longitude>-95.432031</longitude></address><FIPScounty>48201</FIPScounty><useCode>SingleFamily</useCode><taxAssessmentYear>2018</taxAssessmentYear><taxAssessment>2923900.0</taxAssessment><yearBuilt>2019</yearBuilt><lotSizeSqFt>24393</lotSizeSqFt><finishedSqFt>11500</finishedSqFt><bathrooms>9.0</bathrooms><bedrooms>6</bedrooms><totalRooms>8</totalRooms><lastSoldDate>01/26/2018</lastSoldDate><zestimate><amount currency=\"USD\"></amount><last-updated>01/01/1970</last-updated><oneWeekChange deprecated=\"true\"></oneWeekChange><valueChange></valueChange><valuationRange><low currency=\"USD\"></low><high currency=\"USD\"></high></valuationRange><percentile>0</percentile></zestimate><localRealEstate><region name=\"Afton Oaks - River Oaks Area\" id=\"403559\" type=\"neighborhood\"><links><overview>http://www.zillow.com/local-info/TX-Houston/Afton-Oaks----River-Oaks-Area/r_403559/</overview><forSaleByOwner>http://www.zillow.com/afton-oaks-river-oaks-area-houston-tx/fsbo/</forSaleByOwner><forSale>http://www.zillow.com/afton-oaks-river-oaks-area-houston-tx/</forSale></links></region></localRealEstate></result></results></response></SearchResults:searchresults><!-- H:003  T:67ms  S:1160  R:Wed Sep 18 18:25:12 PDT 2019  B:5.0.62310-master.9205ab4~delivery_ready.19bef009 -->'"
      ]
     },
     "execution_count": 105,
     "metadata": {},
     "output_type": "execute_result"
    }
   ],
   "source": [
    "xml_data = response.text\n",
    "xml_data"
   ]
  },
  {
   "cell_type": "code",
   "execution_count": 87,
   "metadata": {},
   "outputs": [
    {
     "data": {
      "text/plain": [
       "'{\"{http://www.zillow.com/static/xsd/SearchResults.xsd}searchresults\": {\"@{http://www.w3.org/2001/XMLSchema-instance}schemaLocation\": \"http://www.zillow.com/static/xsd/SearchResults.xsd http://www.zillowstatic.com/vstatic/80d5e73/static/xsd/SearchResults.xsd\", \"request\": {\"address\": {\"$\": \"3443 inwood dr\"}, \"citystatezip\": {\"$\": \"Houston, TX\"}}, \"message\": {\"text\": {\"$\": \"Request successfully processed\"}, \"code\": {\"$\": 0}}, \"response\": {\"results\": {\"result\": {\"zpid\": {\"$\": 27844718}, \"links\": {\"homedetails\": {\"$\": \"http://www.zillow.com/homedetails/3443-Inwood-Dr-Houston-TX-77019/27844718_zpid/\"}, \"graphsanddata\": {\"$\": \"http://www.zillow.com/homedetails/3443-Inwood-Dr-Houston-TX-77019/27844718_zpid/#charts-and-data\"}, \"mapthishome\": {\"$\": \"http://www.zillow.com/homes/27844718_zpid/\"}, \"comparables\": {\"$\": \"http://www.zillow.com/homes/comps/27844718_zpid/\"}}, \"address\": {\"street\": {\"$\": \"3443 Inwood Dr\"}, \"zipcode\": {\"$\": 77019}, \"city\": {\"$\": \"Houston\"}, \"state\": {\"$\": \"TX\"}, \"latitude\": {\"$\": 29.751466}, \"longitude\": {\"$\": -95.432031}}, \"FIPScounty\": {\"$\": 48201}, \"useCode\": {\"$\": \"SingleFamily\"}, \"taxAssessmentYear\": {\"$\": 2018}, \"taxAssessment\": {\"$\": 2923900.0}, \"yearBuilt\": {\"$\": 2019}, \"lotSizeSqFt\": {\"$\": 24393}, \"finishedSqFt\": {\"$\": 11500}, \"bathrooms\": {\"$\": 9.0}, \"bedrooms\": {\"$\": 6}, \"totalRooms\": {\"$\": 8}, \"lastSoldDate\": {\"$\": \"01/26/2018\"}, \"zestimate\": {\"amount\": {\"@currency\": \"USD\"}, \"last-updated\": {\"$\": \"01/01/1970\"}, \"oneWeekChange\": {\"@deprecated\": true}, \"valueChange\": {}, \"valuationRange\": {\"low\": {\"@currency\": \"USD\"}, \"high\": {\"@currency\": \"USD\"}}, \"percentile\": {\"$\": 0}}, \"localRealEstate\": {\"region\": {\"@name\": \"Afton Oaks - River Oaks Area\", \"@id\": 403559, \"@type\": \"neighborhood\", \"links\": {\"overview\": {\"$\": \"http://www.zillow.com/local-info/TX-Houston/Afton-Oaks----River-Oaks-Area/r_403559/\"}, \"forSaleByOwner\": {\"$\": \"http://www.zillow.com/afton-oaks-river-oaks-area-houston-tx/fsbo/\"}, \"forSale\": {\"$\": \"http://www.zillow.com/afton-oaks-river-oaks-area-houston-tx/\"}}}}}}}}}'"
      ]
     },
     "execution_count": 87,
     "metadata": {},
     "output_type": "execute_result"
    }
   ],
   "source": [
    "json_data=dumps(bf.data(fromstring(xml_data)))\n",
    "json_data"
   ]
  },
  {
   "cell_type": "code",
   "execution_count": 88,
   "metadata": {},
   "outputs": [
    {
     "name": "stdout",
     "output_type": "stream",
     "text": [
      "('{\"{http://www.zillow.com/static/xsd/SearchResults.xsd}searchresults\": '\n",
      " '{\"@{http://www.w3.org/2001/XMLSchema-instance}schemaLocation\": '\n",
      " '\"http://www.zillow.com/static/xsd/SearchResults.xsd '\n",
      " 'http://www.zillowstatic.com/vstatic/80d5e73/static/xsd/SearchResults.xsd\", '\n",
      " '\"request\": {\"address\": {\"$\": \"3443 inwood dr\"}, \"citystatezip\": {\"$\": '\n",
      " '\"Houston, TX\"}}, \"message\": {\"text\": {\"$\": \"Request successfully '\n",
      " 'processed\"}, \"code\": {\"$\": 0}}, \"response\": {\"results\": {\"result\": {\"zpid\": '\n",
      " '{\"$\": 27844718}, \"links\": {\"homedetails\": {\"$\": '\n",
      " '\"http://www.zillow.com/homedetails/3443-Inwood-Dr-Houston-TX-77019/27844718_zpid/\"}, '\n",
      " '\"graphsanddata\": {\"$\": '\n",
      " '\"http://www.zillow.com/homedetails/3443-Inwood-Dr-Houston-TX-77019/27844718_zpid/#charts-and-data\"}, '\n",
      " '\"mapthishome\": {\"$\": \"http://www.zillow.com/homes/27844718_zpid/\"}, '\n",
      " '\"comparables\": {\"$\": \"http://www.zillow.com/homes/comps/27844718_zpid/\"}}, '\n",
      " '\"address\": {\"street\": {\"$\": \"3443 Inwood Dr\"}, \"zipcode\": {\"$\": 77019}, '\n",
      " '\"city\": {\"$\": \"Houston\"}, \"state\": {\"$\": \"TX\"}, \"latitude\": {\"$\": '\n",
      " '29.751466}, \"longitude\": {\"$\": -95.432031}}, \"FIPScounty\": {\"$\": 48201}, '\n",
      " '\"useCode\": {\"$\": \"SingleFamily\"}, \"taxAssessmentYear\": {\"$\": 2018}, '\n",
      " '\"taxAssessment\": {\"$\": 2923900.0}, \"yearBuilt\": {\"$\": 2019}, \"lotSizeSqFt\": '\n",
      " '{\"$\": 24393}, \"finishedSqFt\": {\"$\": 11500}, \"bathrooms\": {\"$\": 9.0}, '\n",
      " '\"bedrooms\": {\"$\": 6}, \"totalRooms\": {\"$\": 8}, \"lastSoldDate\": {\"$\": '\n",
      " '\"01/26/2018\"}, \"zestimate\": {\"amount\": {\"@currency\": \"USD\"}, \"last-updated\": '\n",
      " '{\"$\": \"01/01/1970\"}, \"oneWeekChange\": {\"@deprecated\": true}, \"valueChange\": '\n",
      " '{}, \"valuationRange\": {\"low\": {\"@currency\": \"USD\"}, \"high\": {\"@currency\": '\n",
      " '\"USD\"}}, \"percentile\": {\"$\": 0}}, \"localRealEstate\": {\"region\": {\"@name\": '\n",
      " '\"Afton Oaks - River Oaks Area\", \"@id\": 403559, \"@type\": \"neighborhood\", '\n",
      " '\"links\": {\"overview\": {\"$\": '\n",
      " '\"http://www.zillow.com/local-info/TX-Houston/Afton-Oaks----River-Oaks-Area/r_403559/\"}, '\n",
      " '\"forSaleByOwner\": {\"$\": '\n",
      " '\"http://www.zillow.com/afton-oaks-river-oaks-area-houston-tx/fsbo/\"}, '\n",
      " '\"forSale\": {\"$\": '\n",
      " '\"http://www.zillow.com/afton-oaks-river-oaks-area-houston-tx/\"}}}}}}}}}')\n"
     ]
    }
   ],
   "source": [
    "import pprint\n",
    "#df1=pprint.pprint(json_data)\n",
    "#df1\n",
    "\n",
    "#print(json.dumps(df1, indent=4))\n",
    "df1= pprint.pprint(json_data)"
   ]
  },
  {
   "cell_type": "code",
   "execution_count": 89,
   "metadata": {},
   "outputs": [
    {
     "data": {
      "text/html": [
       "<div>\n",
       "<style scoped>\n",
       "    .dataframe tbody tr th:only-of-type {\n",
       "        vertical-align: middle;\n",
       "    }\n",
       "\n",
       "    .dataframe tbody tr th {\n",
       "        vertical-align: top;\n",
       "    }\n",
       "\n",
       "    .dataframe thead th {\n",
       "        text-align: right;\n",
       "    }\n",
       "</style>\n",
       "<table border=\"1\" class=\"dataframe\">\n",
       "  <thead>\n",
       "    <tr style=\"text-align: right;\">\n",
       "      <th></th>\n",
       "      <th>address</th>\n",
       "      <th>zip</th>\n",
       "      <th>city</th>\n",
       "      <th>state</th>\n",
       "      <th>latitude</th>\n",
       "      <th>longitude</th>\n",
       "      <th>FIPScounty</th>\n",
       "      <th>useCode</th>\n",
       "      <th>taxAssesmentYear</th>\n",
       "      <th>taxAssesment</th>\n",
       "      <th>...</th>\n",
       "      <th>totalrooms</th>\n",
       "      <th>lastSoldDate</th>\n",
       "      <th>currency</th>\n",
       "      <th>lastUpdated</th>\n",
       "      <th>oneWeekChange_deprecated</th>\n",
       "      <th>valuationRange_low</th>\n",
       "      <th>valuationRange_high</th>\n",
       "      <th>percentile</th>\n",
       "      <th>localRealEstate_Region</th>\n",
       "      <th>id,type</th>\n",
       "    </tr>\n",
       "  </thead>\n",
       "  <tbody>\n",
       "  </tbody>\n",
       "</table>\n",
       "<p>0 rows × 25 columns</p>\n",
       "</div>"
      ],
      "text/plain": [
       "Empty DataFrame\n",
       "Columns: [address, zip, city, state, latitude, longitude, FIPScounty, useCode, taxAssesmentYear, taxAssesment, yearBuilt, lotSizeSqFt, finishedSqFt, bathrooms, bedrooms, totalrooms, lastSoldDate, currency, lastUpdated, oneWeekChange_deprecated, valuationRange_low, valuationRange_high, percentile, localRealEstate_Region, id,type]\n",
       "Index: []\n",
       "\n",
       "[0 rows x 25 columns]"
      ]
     },
     "execution_count": 89,
     "metadata": {},
     "output_type": "execute_result"
    }
   ],
   "source": [
    "df\n"
   ]
  },
  {
   "cell_type": "code",
   "execution_count": 90,
   "metadata": {},
   "outputs": [],
   "source": [
    "x = json_data\n",
    "y = json.loads(x)"
   ]
  },
  {
   "cell_type": "code",
   "execution_count": 91,
   "metadata": {},
   "outputs": [
    {
     "name": "stdout",
     "output_type": "stream",
     "text": [
      "{'{http://www.zillow.com/static/xsd/SearchResults.xsd}searchresults': {'@{http://www.w3.org/2001/XMLSchema-instance}schemaLocation': 'http://www.zillow.com/static/xsd/SearchResults.xsd http://www.zillowstatic.com/vstatic/80d5e73/static/xsd/SearchResults.xsd', 'request': {'address': {'$': '3443 inwood dr'}, 'citystatezip': {'$': 'Houston, TX'}}, 'message': {'text': {'$': 'Request successfully processed'}, 'code': {'$': 0}}, 'response': {'results': {'result': {'zpid': {'$': 27844718}, 'links': {'homedetails': {'$': 'http://www.zillow.com/homedetails/3443-Inwood-Dr-Houston-TX-77019/27844718_zpid/'}, 'graphsanddata': {'$': 'http://www.zillow.com/homedetails/3443-Inwood-Dr-Houston-TX-77019/27844718_zpid/#charts-and-data'}, 'mapthishome': {'$': 'http://www.zillow.com/homes/27844718_zpid/'}, 'comparables': {'$': 'http://www.zillow.com/homes/comps/27844718_zpid/'}}, 'address': {'street': {'$': '3443 Inwood Dr'}, 'zipcode': {'$': 77019}, 'city': {'$': 'Houston'}, 'state': {'$': 'TX'}, 'latitude': {'$': 29.751466}, 'longitude': {'$': -95.432031}}, 'FIPScounty': {'$': 48201}, 'useCode': {'$': 'SingleFamily'}, 'taxAssessmentYear': {'$': 2018}, 'taxAssessment': {'$': 2923900.0}, 'yearBuilt': {'$': 2019}, 'lotSizeSqFt': {'$': 24393}, 'finishedSqFt': {'$': 11500}, 'bathrooms': {'$': 9.0}, 'bedrooms': {'$': 6}, 'totalRooms': {'$': 8}, 'lastSoldDate': {'$': '01/26/2018'}, 'zestimate': {'amount': {'@currency': 'USD'}, 'last-updated': {'$': '01/01/1970'}, 'oneWeekChange': {'@deprecated': True}, 'valueChange': {}, 'valuationRange': {'low': {'@currency': 'USD'}, 'high': {'@currency': 'USD'}}, 'percentile': {'$': 0}}, 'localRealEstate': {'region': {'@name': 'Afton Oaks - River Oaks Area', '@id': 403559, '@type': 'neighborhood', 'links': {'overview': {'$': 'http://www.zillow.com/local-info/TX-Houston/Afton-Oaks----River-Oaks-Area/r_403559/'}, 'forSaleByOwner': {'$': 'http://www.zillow.com/afton-oaks-river-oaks-area-houston-tx/fsbo/'}, 'forSale': {'$': 'http://www.zillow.com/afton-oaks-river-oaks-area-houston-tx/'}}}}}}}}}\n"
     ]
    }
   ],
   "source": [
    "print(y)"
   ]
  },
  {
   "cell_type": "code",
   "execution_count": 92,
   "metadata": {},
   "outputs": [
    {
     "data": {
      "text/plain": [
       "dict"
      ]
     },
     "execution_count": 92,
     "metadata": {},
     "output_type": "execute_result"
    }
   ],
   "source": [
    "type(y)"
   ]
  },
  {
   "cell_type": "code",
   "execution_count": 93,
   "metadata": {},
   "outputs": [
    {
     "data": {
      "text/plain": [
       "dict"
      ]
     },
     "execution_count": 93,
     "metadata": {},
     "output_type": "execute_result"
    }
   ],
   "source": [
    "type(y)"
   ]
  },
  {
   "cell_type": "code",
   "execution_count": 94,
   "metadata": {},
   "outputs": [
    {
     "data": {
      "text/html": [
       "<div>\n",
       "<style scoped>\n",
       "    .dataframe tbody tr th:only-of-type {\n",
       "        vertical-align: middle;\n",
       "    }\n",
       "\n",
       "    .dataframe tbody tr th {\n",
       "        vertical-align: top;\n",
       "    }\n",
       "\n",
       "    .dataframe thead th {\n",
       "        text-align: right;\n",
       "    }\n",
       "</style>\n",
       "<table border=\"1\" class=\"dataframe\">\n",
       "  <thead>\n",
       "    <tr style=\"text-align: right;\">\n",
       "      <th></th>\n",
       "      <th>0</th>\n",
       "      <th>1</th>\n",
       "    </tr>\n",
       "  </thead>\n",
       "  <tbody>\n",
       "    <tr>\n",
       "      <th>0</th>\n",
       "      <td>{http://www.zillow.com/static/xsd/SearchResult...</td>\n",
       "      <td>{'@{http://www.w3.org/2001/XMLSchema-instance}...</td>\n",
       "    </tr>\n",
       "  </tbody>\n",
       "</table>\n",
       "</div>"
      ],
      "text/plain": [
       "                                                   0  \\\n",
       "0  {http://www.zillow.com/static/xsd/SearchResult...   \n",
       "\n",
       "                                                   1  \n",
       "0  {'@{http://www.w3.org/2001/XMLSchema-instance}...  "
      ]
     },
     "execution_count": 94,
     "metadata": {},
     "output_type": "execute_result"
    }
   ],
   "source": [
    "pd.DataFrame(list(y.items()))"
   ]
  },
  {
   "cell_type": "code",
   "execution_count": 95,
   "metadata": {},
   "outputs": [
    {
     "ename": "TypeError",
     "evalue": "keys() takes no arguments (1 given)",
     "output_type": "error",
     "traceback": [
      "\u001b[1;31m---------------------------------------------------------------------------\u001b[0m",
      "\u001b[1;31mTypeError\u001b[0m                                 Traceback (most recent call last)",
      "\u001b[1;32m<ipython-input-95-128e8eabf7aa>\u001b[0m in \u001b[0;36m<module>\u001b[1;34m\u001b[0m\n\u001b[0;32m      1\u001b[0m \u001b[1;32mfor\u001b[0m \u001b[0mi\u001b[0m \u001b[1;32min\u001b[0m \u001b[0my\u001b[0m\u001b[1;33m:\u001b[0m\u001b[1;33m\u001b[0m\u001b[1;33m\u001b[0m\u001b[0m\n\u001b[1;32m----> 2\u001b[1;33m     \u001b[0mprint\u001b[0m\u001b[1;33m(\u001b[0m\u001b[0my\u001b[0m\u001b[1;33m.\u001b[0m\u001b[0mkeys\u001b[0m\u001b[1;33m(\u001b[0m\u001b[0mi\u001b[0m\u001b[1;33m)\u001b[0m\u001b[1;33m,\u001b[0m \u001b[0my\u001b[0m\u001b[1;33m.\u001b[0m\u001b[0mvalues\u001b[0m\u001b[1;33m(\u001b[0m\u001b[0mi\u001b[0m\u001b[1;33m)\u001b[0m\u001b[1;33m)\u001b[0m\u001b[1;33m\u001b[0m\u001b[1;33m\u001b[0m\u001b[0m\n\u001b[0m",
      "\u001b[1;31mTypeError\u001b[0m: keys() takes no arguments (1 given)"
     ]
    }
   ],
   "source": [
    "for i in y:\n",
    "    print(y.keys(i), y.values(i))"
   ]
  },
  {
   "cell_type": "code",
   "execution_count": 96,
   "metadata": {},
   "outputs": [
    {
     "data": {
      "text/plain": [
       "dict_keys(['{http://www.zillow.com/static/xsd/SearchResults.xsd}searchresults'])"
      ]
     },
     "execution_count": 96,
     "metadata": {},
     "output_type": "execute_result"
    }
   ],
   "source": [
    "y.keys()"
   ]
  },
  {
   "cell_type": "code",
   "execution_count": 97,
   "metadata": {},
   "outputs": [
    {
     "name": "stdout",
     "output_type": "stream",
     "text": [
      "{http://www.zillow.com/static/xsd/SearchResults.xsd}searchresults {'@{http://www.w3.org/2001/XMLSchema-instance}schemaLocation': 'http://www.zillow.com/static/xsd/SearchResults.xsd http://www.zillowstatic.com/vstatic/80d5e73/static/xsd/SearchResults.xsd', 'request': {'address': {'$': '3443 inwood dr'}, 'citystatezip': {'$': 'Houston, TX'}}, 'message': {'text': {'$': 'Request successfully processed'}, 'code': {'$': 0}}, 'response': {'results': {'result': {'zpid': {'$': 27844718}, 'links': {'homedetails': {'$': 'http://www.zillow.com/homedetails/3443-Inwood-Dr-Houston-TX-77019/27844718_zpid/'}, 'graphsanddata': {'$': 'http://www.zillow.com/homedetails/3443-Inwood-Dr-Houston-TX-77019/27844718_zpid/#charts-and-data'}, 'mapthishome': {'$': 'http://www.zillow.com/homes/27844718_zpid/'}, 'comparables': {'$': 'http://www.zillow.com/homes/comps/27844718_zpid/'}}, 'address': {'street': {'$': '3443 Inwood Dr'}, 'zipcode': {'$': 77019}, 'city': {'$': 'Houston'}, 'state': {'$': 'TX'}, 'latitude': {'$': 29.751466}, 'longitude': {'$': -95.432031}}, 'FIPScounty': {'$': 48201}, 'useCode': {'$': 'SingleFamily'}, 'taxAssessmentYear': {'$': 2018}, 'taxAssessment': {'$': 2923900.0}, 'yearBuilt': {'$': 2019}, 'lotSizeSqFt': {'$': 24393}, 'finishedSqFt': {'$': 11500}, 'bathrooms': {'$': 9.0}, 'bedrooms': {'$': 6}, 'totalRooms': {'$': 8}, 'lastSoldDate': {'$': '01/26/2018'}, 'zestimate': {'amount': {'@currency': 'USD'}, 'last-updated': {'$': '01/01/1970'}, 'oneWeekChange': {'@deprecated': True}, 'valueChange': {}, 'valuationRange': {'low': {'@currency': 'USD'}, 'high': {'@currency': 'USD'}}, 'percentile': {'$': 0}}, 'localRealEstate': {'region': {'@name': 'Afton Oaks - River Oaks Area', '@id': 403559, '@type': 'neighborhood', 'links': {'overview': {'$': 'http://www.zillow.com/local-info/TX-Houston/Afton-Oaks----River-Oaks-Area/r_403559/'}, 'forSaleByOwner': {'$': 'http://www.zillow.com/afton-oaks-river-oaks-area-houston-tx/fsbo/'}, 'forSale': {'$': 'http://www.zillow.com/afton-oaks-river-oaks-area-houston-tx/'}}}}}}}}\n"
     ]
    }
   ],
   "source": [
    "for k, v in y.items():\n",
    "    print(k,v)"
   ]
  },
  {
   "cell_type": "code",
   "execution_count": 98,
   "metadata": {},
   "outputs": [
    {
     "data": {
      "text/html": [
       "<div>\n",
       "<style scoped>\n",
       "    .dataframe tbody tr th:only-of-type {\n",
       "        vertical-align: middle;\n",
       "    }\n",
       "\n",
       "    .dataframe tbody tr th {\n",
       "        vertical-align: top;\n",
       "    }\n",
       "\n",
       "    .dataframe thead th {\n",
       "        text-align: right;\n",
       "    }\n",
       "</style>\n",
       "<table border=\"1\" class=\"dataframe\">\n",
       "  <thead>\n",
       "    <tr style=\"text-align: right;\">\n",
       "      <th></th>\n",
       "      <th></th>\n",
       "      <th>address</th>\n",
       "      <th>citystatezip</th>\n",
       "      <th>code</th>\n",
       "      <th>results</th>\n",
       "      <th>text</th>\n",
       "    </tr>\n",
       "  </thead>\n",
       "  <tbody>\n",
       "    <tr>\n",
       "      <th rowspan=\"4\" valign=\"top\">{http://www.zillow.com/static/xsd/SearchResults.xsd}searchresults</th>\n",
       "      <th>@{http://www.w3.org/2001/XMLSchema-instance}schemaLocation</th>\n",
       "      <td>http://www.zillow.com/static/xsd/SearchResults...</td>\n",
       "      <td>http://www.zillow.com/static/xsd/SearchResults...</td>\n",
       "      <td>http://www.zillow.com/static/xsd/SearchResults...</td>\n",
       "      <td>http://www.zillow.com/static/xsd/SearchResults...</td>\n",
       "      <td>http://www.zillow.com/static/xsd/SearchResults...</td>\n",
       "    </tr>\n",
       "    <tr>\n",
       "      <th>request</th>\n",
       "      <td>{'$': '3443 inwood dr'}</td>\n",
       "      <td>{'$': 'Houston, TX'}</td>\n",
       "      <td>NaN</td>\n",
       "      <td>NaN</td>\n",
       "      <td>NaN</td>\n",
       "    </tr>\n",
       "    <tr>\n",
       "      <th>message</th>\n",
       "      <td>NaN</td>\n",
       "      <td>NaN</td>\n",
       "      <td>{'$': 0}</td>\n",
       "      <td>NaN</td>\n",
       "      <td>{'$': 'Request successfully processed'}</td>\n",
       "    </tr>\n",
       "    <tr>\n",
       "      <th>response</th>\n",
       "      <td>NaN</td>\n",
       "      <td>NaN</td>\n",
       "      <td>NaN</td>\n",
       "      <td>{'result': {'zpid': {'$': 27844718}, 'links': ...</td>\n",
       "      <td>NaN</td>\n",
       "    </tr>\n",
       "  </tbody>\n",
       "</table>\n",
       "</div>"
      ],
      "text/plain": [
       "                                                                                                                                                 address  \\\n",
       "{http://www.zillow.com/static/xsd/SearchResults... @{http://www.w3.org/2001/XMLSchema-instance}sch...  http://www.zillow.com/static/xsd/SearchResults...   \n",
       "                                                   request                                                                       {'$': '3443 inwood dr'}   \n",
       "                                                   message                                                                                           NaN   \n",
       "                                                   response                                                                                          NaN   \n",
       "\n",
       "                                                                                                                                            citystatezip  \\\n",
       "{http://www.zillow.com/static/xsd/SearchResults... @{http://www.w3.org/2001/XMLSchema-instance}sch...  http://www.zillow.com/static/xsd/SearchResults...   \n",
       "                                                   request                                                                          {'$': 'Houston, TX'}   \n",
       "                                                   message                                                                                           NaN   \n",
       "                                                   response                                                                                          NaN   \n",
       "\n",
       "                                                                                                                                                    code  \\\n",
       "{http://www.zillow.com/static/xsd/SearchResults... @{http://www.w3.org/2001/XMLSchema-instance}sch...  http://www.zillow.com/static/xsd/SearchResults...   \n",
       "                                                   request                                                                                           NaN   \n",
       "                                                   message                                                                                      {'$': 0}   \n",
       "                                                   response                                                                                          NaN   \n",
       "\n",
       "                                                                                                                                                 results  \\\n",
       "{http://www.zillow.com/static/xsd/SearchResults... @{http://www.w3.org/2001/XMLSchema-instance}sch...  http://www.zillow.com/static/xsd/SearchResults...   \n",
       "                                                   request                                                                                           NaN   \n",
       "                                                   message                                                                                           NaN   \n",
       "                                                   response                                            {'result': {'zpid': {'$': 27844718}, 'links': ...   \n",
       "\n",
       "                                                                                                                                                    text  \n",
       "{http://www.zillow.com/static/xsd/SearchResults... @{http://www.w3.org/2001/XMLSchema-instance}sch...  http://www.zillow.com/static/xsd/SearchResults...  \n",
       "                                                   request                                                                                           NaN  \n",
       "                                                   message                                                       {'$': 'Request successfully processed'}  \n",
       "                                                   response                                                                                          NaN  "
      ]
     },
     "execution_count": 98,
     "metadata": {},
     "output_type": "execute_result"
    }
   ],
   "source": [
    "z = pd.concat({k: pd.DataFrame(v).T for k, v in y.items()}, axis=0)\n",
    "z"
   ]
  },
  {
   "cell_type": "code",
   "execution_count": 99,
   "metadata": {
    "scrolled": true
   },
   "outputs": [
    {
     "data": {
      "text/plain": [
       "['http://www.zillow.com/static/xsd/SearchResults.xsd http://www.zillowstatic.com/vstatic/80d5e73/static/xsd/SearchResults.xsd',\n",
       " '3443 inwood dr',\n",
       " 'Houston, TX',\n",
       " 'Request successfully processed',\n",
       " 0,\n",
       " 27844718,\n",
       " 'http://www.zillow.com/homedetails/3443-Inwood-Dr-Houston-TX-77019/27844718_zpid/',\n",
       " 'http://www.zillow.com/homedetails/3443-Inwood-Dr-Houston-TX-77019/27844718_zpid/#charts-and-data',\n",
       " 'http://www.zillow.com/homes/27844718_zpid/',\n",
       " 'http://www.zillow.com/homes/comps/27844718_zpid/',\n",
       " '3443 Inwood Dr',\n",
       " 77019,\n",
       " 'Houston',\n",
       " 'TX',\n",
       " 29.751466,\n",
       " -95.432031,\n",
       " 48201,\n",
       " 'SingleFamily',\n",
       " 2018,\n",
       " 2923900.0,\n",
       " 2019,\n",
       " 24393,\n",
       " 11500,\n",
       " 9.0,\n",
       " 6,\n",
       " 8,\n",
       " '01/26/2018',\n",
       " 'USD',\n",
       " '01/01/1970',\n",
       " True,\n",
       " 'USD',\n",
       " 'USD',\n",
       " 0,\n",
       " 'Afton Oaks - River Oaks Area',\n",
       " 403559,\n",
       " 'neighborhood',\n",
       " 'http://www.zillow.com/local-info/TX-Houston/Afton-Oaks----River-Oaks-Area/r_403559/',\n",
       " 'http://www.zillow.com/afton-oaks-river-oaks-area-houston-tx/fsbo/',\n",
       " 'http://www.zillow.com/afton-oaks-river-oaks-area-houston-tx/']"
      ]
     },
     "execution_count": 99,
     "metadata": {},
     "output_type": "execute_result"
    }
   ],
   "source": [
    "def NestedDictValues(d):\n",
    " for v in d.values():\n",
    "   if isinstance(v, dict):\n",
    "     yield from NestedDictValues(v)\n",
    "   else:\n",
    "     yield v\n",
    "list(NestedDictValues(y))"
   ]
  },
  {
   "cell_type": "code",
   "execution_count": 107,
   "metadata": {},
   "outputs": [
    {
     "data": {
      "text/html": [
       "<div>\n",
       "<style scoped>\n",
       "    .dataframe tbody tr th:only-of-type {\n",
       "        vertical-align: middle;\n",
       "    }\n",
       "\n",
       "    .dataframe tbody tr th {\n",
       "        vertical-align: top;\n",
       "    }\n",
       "\n",
       "    .dataframe thead th {\n",
       "        text-align: right;\n",
       "    }\n",
       "</style>\n",
       "<table border=\"1\" class=\"dataframe\">\n",
       "  <thead>\n",
       "    <tr style=\"text-align: right;\">\n",
       "      <th></th>\n",
       "      <th>0</th>\n",
       "      <th>1</th>\n",
       "      <th>2</th>\n",
       "      <th>3</th>\n",
       "      <th>4</th>\n",
       "      <th>5</th>\n",
       "      <th>6</th>\n",
       "      <th>7</th>\n",
       "      <th>8</th>\n",
       "      <th>9</th>\n",
       "      <th>...</th>\n",
       "      <th>29</th>\n",
       "      <th>30</th>\n",
       "      <th>31</th>\n",
       "      <th>32</th>\n",
       "      <th>33</th>\n",
       "      <th>34</th>\n",
       "      <th>35</th>\n",
       "      <th>36</th>\n",
       "      <th>37</th>\n",
       "      <th>38</th>\n",
       "    </tr>\n",
       "  </thead>\n",
       "  <tbody>\n",
       "    <tr>\n",
       "      <th>0</th>\n",
       "      <td>http://www.zillow.com/static/xsd/SearchResults...</td>\n",
       "      <td>3443 inwood dr</td>\n",
       "      <td>Houston, TX</td>\n",
       "      <td>Request successfully processed</td>\n",
       "      <td>0</td>\n",
       "      <td>27844718</td>\n",
       "      <td>http://www.zillow.com/homedetails/3443-Inwood-...</td>\n",
       "      <td>http://www.zillow.com/homedetails/3443-Inwood-...</td>\n",
       "      <td>http://www.zillow.com/homes/27844718_zpid/</td>\n",
       "      <td>http://www.zillow.com/homes/comps/27844718_zpid/</td>\n",
       "      <td>...</td>\n",
       "      <td>True</td>\n",
       "      <td>USD</td>\n",
       "      <td>USD</td>\n",
       "      <td>0</td>\n",
       "      <td>Afton Oaks - River Oaks Area</td>\n",
       "      <td>403559</td>\n",
       "      <td>neighborhood</td>\n",
       "      <td>http://www.zillow.com/local-info/TX-Houston/Af...</td>\n",
       "      <td>http://www.zillow.com/afton-oaks-river-oaks-ar...</td>\n",
       "      <td>http://www.zillow.com/afton-oaks-river-oaks-ar...</td>\n",
       "    </tr>\n",
       "  </tbody>\n",
       "</table>\n",
       "<p>1 rows × 39 columns</p>\n",
       "</div>"
      ],
      "text/plain": [
       "                                                  0               1   \\\n",
       "0  http://www.zillow.com/static/xsd/SearchResults...  3443 inwood dr   \n",
       "\n",
       "            2                               3  4         5   \\\n",
       "0  Houston, TX  Request successfully processed  0  27844718   \n",
       "\n",
       "                                                  6   \\\n",
       "0  http://www.zillow.com/homedetails/3443-Inwood-...   \n",
       "\n",
       "                                                  7   \\\n",
       "0  http://www.zillow.com/homedetails/3443-Inwood-...   \n",
       "\n",
       "                                           8   \\\n",
       "0  http://www.zillow.com/homes/27844718_zpid/   \n",
       "\n",
       "                                                 9   ...    29   30   31 32  \\\n",
       "0  http://www.zillow.com/homes/comps/27844718_zpid/  ...  True  USD  USD  0   \n",
       "\n",
       "                             33      34            35  \\\n",
       "0  Afton Oaks - River Oaks Area  403559  neighborhood   \n",
       "\n",
       "                                                  36  \\\n",
       "0  http://www.zillow.com/local-info/TX-Houston/Af...   \n",
       "\n",
       "                                                  37  \\\n",
       "0  http://www.zillow.com/afton-oaks-river-oaks-ar...   \n",
       "\n",
       "                                                  38  \n",
       "0  http://www.zillow.com/afton-oaks-river-oaks-ar...  \n",
       "\n",
       "[1 rows x 39 columns]"
      ]
     },
     "execution_count": 107,
     "metadata": {},
     "output_type": "execute_result"
    }
   ],
   "source": [
    "df5 = pd.DataFrame(list(NestedDictValues(y)))\n",
    "df5.T"
   ]
  },
  {
   "cell_type": "code",
   "execution_count": 101,
   "metadata": {},
   "outputs": [],
   "source": [
    "#df5=df5.T"
   ]
  },
  {
   "cell_type": "code",
   "execution_count": 102,
   "metadata": {},
   "outputs": [],
   "source": [
    "df5.to_csv(r'C:\\Users\\Josue\\github\\File Name.csv')\n"
   ]
  },
  {
   "cell_type": "code",
   "execution_count": 103,
   "metadata": {},
   "outputs": [],
   "source": [
    "columns1 = ['address','zip','city','state','latitude','longitude','FIPScounty','useCode','taxAssesmentYear','taxAssesment','yearBuilt','lotSizeSqFt','finishedSqFt','bathrooms','bedrooms','totalrooms','lastSoldDate','currency','lastUpdated','oneWeekChange_deprecated','valuationRange_low','valuationRange_high','percentile','localRealEstate_Region','id,type']\n"
   ]
  },
  {
   "cell_type": "code",
   "execution_count": 104,
   "metadata": {},
   "outputs": [
    {
     "data": {
      "text/html": [
       "<div>\n",
       "<style scoped>\n",
       "    .dataframe tbody tr th:only-of-type {\n",
       "        vertical-align: middle;\n",
       "    }\n",
       "\n",
       "    .dataframe tbody tr th {\n",
       "        vertical-align: top;\n",
       "    }\n",
       "\n",
       "    .dataframe thead th {\n",
       "        text-align: right;\n",
       "    }\n",
       "</style>\n",
       "<table border=\"1\" class=\"dataframe\">\n",
       "  <thead>\n",
       "    <tr style=\"text-align: right;\">\n",
       "      <th></th>\n",
       "      <th>address</th>\n",
       "      <th>zip</th>\n",
       "      <th>city</th>\n",
       "      <th>state</th>\n",
       "      <th>latitude</th>\n",
       "      <th>longitude</th>\n",
       "      <th>FIPScounty</th>\n",
       "      <th>useCode</th>\n",
       "      <th>taxAssesmentYear</th>\n",
       "      <th>taxAssesment</th>\n",
       "      <th>...</th>\n",
       "      <th>totalrooms</th>\n",
       "      <th>lastSoldDate</th>\n",
       "      <th>currency</th>\n",
       "      <th>lastUpdated</th>\n",
       "      <th>oneWeekChange_deprecated</th>\n",
       "      <th>valuationRange_low</th>\n",
       "      <th>valuationRange_high</th>\n",
       "      <th>percentile</th>\n",
       "      <th>localRealEstate_Region</th>\n",
       "      <th>id,type</th>\n",
       "    </tr>\n",
       "  </thead>\n",
       "  <tbody>\n",
       "  </tbody>\n",
       "</table>\n",
       "<p>0 rows × 25 columns</p>\n",
       "</div>"
      ],
      "text/plain": [
       "Empty DataFrame\n",
       "Columns: [address, zip, city, state, latitude, longitude, FIPScounty, useCode, taxAssesmentYear, taxAssesment, yearBuilt, lotSizeSqFt, finishedSqFt, bathrooms, bedrooms, totalrooms, lastSoldDate, currency, lastUpdated, oneWeekChange_deprecated, valuationRange_low, valuationRange_high, percentile, localRealEstate_Region, id,type]\n",
       "Index: []\n",
       "\n",
       "[0 rows x 25 columns]"
      ]
     },
     "execution_count": 104,
     "metadata": {},
     "output_type": "execute_result"
    }
   ],
   "source": [
    "properties = df = pd.DataFrame(columns=columns1)\n",
    "properties"
   ]
  },
  {
   "cell_type": "code",
   "execution_count": null,
   "metadata": {},
   "outputs": [],
   "source": []
  }
 ],
 "metadata": {
  "kernelspec": {
   "display_name": "Python 3",
   "language": "python",
   "name": "python3"
  },
  "language_info": {
   "codemirror_mode": {
    "name": "ipython",
    "version": 3
   },
   "file_extension": ".py",
   "mimetype": "text/x-python",
   "name": "python",
   "nbconvert_exporter": "python",
   "pygments_lexer": "ipython3",
   "version": "3.7.3"
  }
 },
 "nbformat": 4,
 "nbformat_minor": 4
}
