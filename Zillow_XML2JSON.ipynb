{
 "cells": [
  {
   "cell_type": "code",
   "execution_count": 203,
   "metadata": {},
   "outputs": [],
   "source": [
    "import pandas as pd \n",
    "%matplotlib inline"
   ]
  },
  {
   "cell_type": "code",
   "execution_count": 204,
   "metadata": {},
   "outputs": [],
   "source": [
    "#df = pd.read_csv(\"housing.csv\")"
   ]
  },
  {
   "cell_type": "code",
   "execution_count": 205,
   "metadata": {},
   "outputs": [],
   "source": [
    "#df.head()"
   ]
  },
  {
   "cell_type": "code",
   "execution_count": 206,
   "metadata": {},
   "outputs": [],
   "source": [
    "#df.info()"
   ]
  },
  {
   "cell_type": "code",
   "execution_count": 207,
   "metadata": {},
   "outputs": [],
   "source": [
    "#df.plot.scatter(x=\"median_income\", y=\"median_house_value\")"
   ]
  },
  {
   "cell_type": "code",
   "execution_count": null,
   "metadata": {},
   "outputs": [],
   "source": []
  },
  {
   "cell_type": "code",
   "execution_count": 208,
   "metadata": {},
   "outputs": [],
   "source": [
    "#df.corr()"
   ]
  },
  {
   "cell_type": "code",
   "execution_count": 209,
   "metadata": {},
   "outputs": [],
   "source": [
    "import requests "
   ]
  },
  {
   "cell_type": "code",
   "execution_count": 210,
   "metadata": {},
   "outputs": [],
   "source": [
    "state=\"TX\"\n",
    "city=\"houston\"\n",
    "childtype=\"neighborhood\""
   ]
  },
  {
   "cell_type": "code",
   "execution_count": 211,
   "metadata": {},
   "outputs": [],
   "source": [
    "\n",
    "url = f\"http://www.zillow.com/webservice/GetDeepSearchResults.htm?zws-id=XXXXXXXXXXXXX&address=3443+inwood+dr&citystatezip=Houston%2C+TX\""
   ]
  },
  {
   "cell_type": "code",
   "execution_count": 212,
   "metadata": {},
   "outputs": [],
   "source": [
    "response= requests.get(url)"
   ]
  },
  {
   "cell_type": "code",
   "execution_count": 213,
   "metadata": {},
   "outputs": [
    {
     "data": {
      "text/plain": [
       "<Response [200]>"
      ]
     },
     "execution_count": 213,
     "metadata": {},
     "output_type": "execute_result"
    }
   ],
   "source": [
    "response"
   ]
  },
  {
   "cell_type": "code",
   "execution_count": 214,
   "metadata": {},
   "outputs": [],
   "source": [
    "#xml_data = response.text"
   ]
  },
  {
   "cell_type": "code",
   "execution_count": null,
   "metadata": {},
   "outputs": [],
   "source": []
  },
  {
   "cell_type": "code",
   "execution_count": null,
   "metadata": {},
   "outputs": [],
   "source": []
  },
  {
   "cell_type": "code",
   "execution_count": 215,
   "metadata": {},
   "outputs": [],
   "source": [
    "from json import dumps\n",
    "json_data=dumps(bf.data(fromstring(xml_data)))"
   ]
  },
  {
   "cell_type": "code",
   "execution_count": 216,
   "metadata": {},
   "outputs": [
    {
     "name": "stdout",
     "output_type": "stream",
     "text": [
      "('{\"{http://www.zillow.com/static/xsd/SearchResults.xsd}searchresults\": '\n",
      " '{\"@{http://www.w3.org/2001/XMLSchema-instance}schemaLocation\": '\n",
      " '\"http://www.zillow.com/static/xsd/SearchResults.xsd '\n",
      " 'http://www.zillowstatic.com/vstatic/80d5e73/static/xsd/SearchResults.xsd\", '\n",
      " '\"request\": {\"address\": {\"$\": \"3443 inwood dr\"}, \"citystatezip\": {\"$\": '\n",
      " '\"Houston, TX\"}}, \"message\": {\"text\": {\"$\": \"Request successfully '\n",
      " 'processed\"}, \"code\": {\"$\": 0}}, \"response\": {\"results\": {\"result\": {\"zpid\": '\n",
      " '{\"$\": 27844718}, \"links\": {\"homedetails\": {\"$\": '\n",
      " '\"http://www.zillow.com/homedetails/3443-Inwood-Dr-Houston-TX-77019/27844718_zpid/\"}, '\n",
      " '\"graphsanddata\": {\"$\": '\n",
      " '\"http://www.zillow.com/homedetails/3443-Inwood-Dr-Houston-TX-77019/27844718_zpid/#charts-and-data\"}, '\n",
      " '\"mapthishome\": {\"$\": \"http://www.zillow.com/homes/27844718_zpid/\"}, '\n",
      " '\"comparables\": {\"$\": \"http://www.zillow.com/homes/comps/27844718_zpid/\"}}, '\n",
      " '\"address\": {\"street\": {\"$\": \"3443 Inwood Dr\"}, \"zipcode\": {\"$\": 77019}, '\n",
      " '\"city\": {\"$\": \"Houston\"}, \"state\": {\"$\": \"TX\"}, \"latitude\": {\"$\": '\n",
      " '29.751466}, \"longitude\": {\"$\": -95.432031}}, \"FIPScounty\": {\"$\": 48201}, '\n",
      " '\"useCode\": {\"$\": \"SingleFamily\"}, \"taxAssessmentYear\": {\"$\": 2018}, '\n",
      " '\"taxAssessment\": {\"$\": 2923900.0}, \"yearBuilt\": {\"$\": 2019}, \"lotSizeSqFt\": '\n",
      " '{\"$\": 24393}, \"finishedSqFt\": {\"$\": 11500}, \"bathrooms\": {\"$\": 9.0}, '\n",
      " '\"bedrooms\": {\"$\": 6}, \"totalRooms\": {\"$\": 8}, \"lastSoldDate\": {\"$\": '\n",
      " '\"01/26/2018\"}, \"zestimate\": {\"amount\": {\"@currency\": \"USD\"}, \"last-updated\": '\n",
      " '{\"$\": \"01/01/1970\"}, \"oneWeekChange\": {\"@deprecated\": true}, \"valueChange\": '\n",
      " '{}, \"valuationRange\": {\"low\": {\"@currency\": \"USD\"}, \"high\": {\"@currency\": '\n",
      " '\"USD\"}}, \"percentile\": {\"$\": 0}}, \"localRealEstate\": {\"region\": {\"@name\": '\n",
      " '\"Afton Oaks - River Oaks Area\", \"@id\": 403559, \"@type\": \"neighborhood\", '\n",
      " '\"links\": {\"overview\": {\"$\": '\n",
      " '\"http://www.zillow.com/local-info/TX-Houston/Afton-Oaks----River-Oaks-Area/r_403559/\"}, '\n",
      " '\"forSaleByOwner\": {\"$\": '\n",
      " '\"http://www.zillow.com/afton-oaks-river-oaks-area-houston-tx/fsbo/\"}, '\n",
      " '\"forSale\": {\"$\": '\n",
      " '\"http://www.zillow.com/afton-oaks-river-oaks-area-houston-tx/\"}}}}}}}}}')\n"
     ]
    }
   ],
   "source": [
    "import pprint\n",
    "df1=pprint.pprint(json_data)\n",
    "df1"
   ]
  },
  {
   "cell_type": "code",
   "execution_count": null,
   "metadata": {},
   "outputs": [],
   "source": []
  },
  {
   "cell_type": "code",
   "execution_count": 217,
   "metadata": {},
   "outputs": [],
   "source": [
    "#df = pd.read_json(pprint(json_data))"
   ]
  },
  {
   "cell_type": "code",
   "execution_count": null,
   "metadata": {},
   "outputs": [],
   "source": []
  },
  {
   "cell_type": "code",
   "execution_count": null,
   "metadata": {},
   "outputs": [],
   "source": []
  },
  {
   "cell_type": "code",
   "execution_count": null,
   "metadata": {},
   "outputs": [],
   "source": []
  },
  {
   "cell_type": "code",
   "execution_count": null,
   "metadata": {},
   "outputs": [],
   "source": []
  },
  {
   "cell_type": "code",
   "execution_count": null,
   "metadata": {},
   "outputs": [],
   "source": []
  },
  {
   "cell_type": "code",
   "execution_count": null,
   "metadata": {},
   "outputs": [],
   "source": []
  }
 ],
 "metadata": {
  "kernelspec": {
   "display_name": "Python 3",
   "language": "python",
   "name": "python3"
  },
  "language_info": {
   "codemirror_mode": {
    "name": "ipython",
    "version": 3
   },
   "file_extension": ".py",
   "mimetype": "text/x-python",
   "name": "python",
   "nbconvert_exporter": "python",
   "pygments_lexer": "ipython3",
   "version": "3.7.3"
  }
 },
 "nbformat": 4,
 "nbformat_minor": 4
}
